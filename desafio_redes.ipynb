{
  "nbformat": 4,
  "nbformat_minor": 0,
  "metadata": {
    "colab": {
      "provenance": [],
      "authorship_tag": "ABX9TyMcuvLr/0CuhkLSt8WlU5Ek",
      "include_colab_link": true
    },
    "kernelspec": {
      "name": "python3",
      "display_name": "Python 3"
    },
    "language_info": {
      "name": "python"
    }
  },
  "cells": [
    {
      "cell_type": "markdown",
      "metadata": {
        "id": "view-in-github",
        "colab_type": "text"
      },
      "source": [
        "<a href=\"https://colab.research.google.com/github/eaoliveira/desafio-redes-neurais/blob/main/desafio_redes.ipynb\" target=\"_parent\"><img src=\"https://colab.research.google.com/assets/colab-badge.svg\" alt=\"Open In Colab\"/></a>"
      ]
    },
    {
      "cell_type": "code",
      "source": [],
      "metadata": {
        "id": "qTwbll5GhfUE"
      },
      "execution_count": null,
      "outputs": []
    },
    {
      "cell_type": "markdown",
      "source": [
        "Projeto desafio da disciplina Redes Neurais Artificiais Projeto desafio - 1 Descrição da Situação Problema – Musical\n",
        "\n",
        "Instrument's Sound Dataset Uma produtora musical quer melhorar o processo de seleção de novos músicos para participação de sua banda. Cada tipo de instrumento é tratado com um avaliador especialista. Existem 4 tipos de instrumentos: • Guitarra • Bateria • Violino • Piano Seu trabalho é classificar os áudios recebidos para reduzir o tempo de escolha dos especialistas de seleção de músicos Proposta de Solução Com base na situação problema e nos conceitos trabalhados na disciplina o grupo deve propor uma solução utilizando redes neurais para classificar os áudios da base de dados. Pesquise as metodologias mais recentes de tratamento de áudio para machine learning. Utilize transfer learning para evitar gastar tempo com treinamento.\n",
        "\n",
        "Referências • Data set: https://www.kaggle.com/datasets/soumendraprasad/musical-instruments-sound-dataset/data • Propostas: Classificação de áudios usando TensorFlow https://www.section.io/engineering-education/machine-learning-for-audio-classification/ Musical Instrument's Sound Dataset https://www.kaggle.com/datasets/soumendraprasad/musical-instruments-sound-dataset Aprendizado através do transfer Learn https://www.tensorflow.org/tutorials/audio/transfer_learning_audio?hl=pt-br Início da pesquisa e exemplo de código de tratamento de áudio https://www.kaggle.com/code/daisukelab/cnn-2d-basic-solution-powered-by-fast-ai Tensorflow com Yamnet https://medium.com/@antonyharfield/converting-the-yamnet-audio-detection-model-for-tensorflow-lite-inference-43d049bd357c MobileNet https://arxiv.org/pdf/1704.04861.pdf Exemplo bem avaliado: https://www.kaggle.com/code/soumendraprasad/baseline-audio-classifier/notebook"
      ],
      "metadata": {
        "id": "64sgskl9hgdu"
      }
    },
    {
      "cell_type": "markdown",
      "source": [
        "ENTREGAS: Apresentaçao do desafio Código artigo de 5 página\n",
        "\n",
        "Resultado matriz de confusão acuracia de treino acuracia de teste\n",
        "\n",
        "Entender como tratar o desbalanceamento mutilclasse"
      ],
      "metadata": {
        "id": "bhYvqJsoh5ce"
      }
    },
    {
      "cell_type": "code",
      "source": [
        "import os\n",
        "\n",
        "from IPython import display\n",
        "import matplotlib.pyplot as plt\n",
        "import numpy as np\n",
        "import pandas as pd\n",
        "\n",
        "import tensorflow as tf\n",
        "import tensorflow_hub as hub\n",
        "import tensorflow_io as tfio\n",
        "\n",
        "\n",
        "import kagglehub\n",
        "\n",
        "# Download latest version\n",
        "path = kagglehub.model_download(\"google/yamnet/tensorFlow2/yamnet\")\n",
        "\n",
        "print(\"Path to model files:\", path)\n",
        "\n",
        "\n",
        "yamnet_model_handle = path\n",
        "yamnet_model = hub.load(yamnet_model_handle)\n",
        "\n",
        "testing_wav_file_name = \"/content/train/Test_submission/ROOM-room8-MUS-beethoven1.wav\"\n",
        "print(testing_wav_file_name)\n",
        "\n",
        "@tf.function\n",
        "def load_wav_16k_mono(filename):\n",
        "    \"\"\" Load a WAV file, convert it to a float tensor, resample to 16 kHz single-channel audio. \"\"\"\n",
        "    file_contents = tf.io.read_file(filename)\n",
        "    wav, sample_rate = tf.audio.decode_wav(\n",
        "          file_contents,\n",
        "          desired_channels=1)\n",
        "    wav = tf.squeeze(wav, axis=-1)\n",
        "    sample_rate = tf.cast(sample_rate, dtype=tf.int64)\n",
        "    wav = tfio.audio.resample(wav, rate_in=sample_rate, rate_out=16000)\n",
        "    return wav\n",
        "\n",
        "class_map_path = yamnet_model.class_map_path().numpy().decode('utf-8')\n",
        "class_names =list(pd.read_csv(class_map_path)['display_name'])\n",
        "\n",
        "for name in class_names[:20]:\n",
        "  print(name)\n",
        "print('...')\n",
        "\n",
        "testing_wav_data = load_wav_16k_mono(testing_wav_file_name)\n",
        "\n",
        "scores, embeddings, spectrogram = yamnet_model(testing_wav_data)\n",
        "class_scores = tf.reduce_mean(scores, axis=0)\n",
        "top_class = tf.argmax(class_scores)\n",
        "inferred_class = class_names[top_class]\n",
        "\n",
        "print(f'The main sound is: {inferred_class}')\n",
        "print(f'The embeddings shape: {embeddings.shape}')"
      ],
      "metadata": {
        "colab": {
          "base_uri": "https://localhost:8080/"
        },
        "id": "fUEtWJ51hjfP",
        "outputId": "a2d6d996-1a8f-406a-a69c-572519f6233d"
      },
      "execution_count": null,
      "outputs": [
        {
          "output_type": "stream",
          "name": "stdout",
          "text": [
            "Path to model files: /root/.cache/kagglehub/models/google/yamnet/tensorFlow2/yamnet/1\n",
            "/content/train/Test_submission/ROOM-room8-MUS-beethoven1.wav\n",
            "Speech\n",
            "Child speech, kid speaking\n",
            "Conversation\n",
            "Narration, monologue\n",
            "Babbling\n",
            "Speech synthesizer\n",
            "Shout\n",
            "Bellow\n",
            "Whoop\n",
            "Yell\n",
            "Children shouting\n",
            "Screaming\n",
            "Whispering\n",
            "Laughter\n",
            "Baby laughter\n",
            "Giggle\n",
            "Snicker\n",
            "Belly laugh\n",
            "Chuckle, chortle\n",
            "Crying, sobbing\n",
            "...\n"
          ]
        },
        {
          "output_type": "stream",
          "name": "stderr",
          "text": [
            "WARNING:tensorflow:Using a while_loop for converting IO>AudioResample cause there is no registered converter for this op.\n"
          ]
        },
        {
          "output_type": "stream",
          "name": "stdout",
          "text": [
            "The main sound is: Music\n",
            "The embeddings shape: (89, 1024)\n"
          ]
        }
      ]
    },
    {
      "cell_type": "code",
      "source": [
        "import numpy as np # linear algebra\n",
        "import pandas as pd # data processing, CSV file I/O (e.g. pd.read_csv)\n",
        "\n",
        "import os\n",
        "\n",
        "for dirname, _, filenames in os.walk('/content/train/Test_submission'):\n",
        "    for filename in filenames:\n",
        "        complete_file_name = os.path.join(dirname, filename)\n",
        "        print(complete_file_name)\n",
        "        testing_wav_data = load_wav_16k_mono(complete_file_name)\n",
        "\n",
        "        scores, embeddings, spectrogram = yamnet_model(testing_wav_data)\n",
        "        class_scores = tf.reduce_mean(scores, axis=0)\n",
        "        top_class = tf.argmax(class_scores)\n",
        "        inferred_class = class_names[top_class]\n",
        "\n",
        "        print(f'The main sound is: {inferred_class}')\n",
        "        print(f'The embeddings shape: {embeddings.shape}')"
      ],
      "metadata": {
        "colab": {
          "base_uri": "https://localhost:8080/"
        },
        "id": "rib0258khy4f",
        "outputId": "473383e1-235d-4990-deca-291cc8613411"
      },
      "execution_count": null,
      "outputs": [
        {
          "output_type": "stream",
          "name": "stderr",
          "text": [
            "WARNING:tensorflow:Using a while_loop for converting IO>AudioResample cause there is no registered converter for this op.\n"
          ]
        },
        {
          "output_type": "stream",
          "name": "stdout",
          "text": [
            "/content/train/Test_submission/Va-ord-F6-mf-1c.wav\n"
          ]
        },
        {
          "output_type": "stream",
          "name": "stderr",
          "text": [
            "WARNING:tensorflow:Using a while_loop for converting IO>AudioResample cause there is no registered converter for this op.\n"
          ]
        },
        {
          "output_type": "stream",
          "name": "stdout",
          "text": [
            "The main sound is: Music\n",
            "The embeddings shape: (14, 1024)\n",
            "/content/train/Test_submission/darbuka-drum-percussion-64018.wav\n"
          ]
        },
        {
          "output_type": "stream",
          "name": "stderr",
          "text": [
            "WARNING:tensorflow:Using a while_loop for converting IO>AudioResample cause there is no registered converter for this op.\n"
          ]
        },
        {
          "output_type": "stream",
          "name": "stdout",
          "text": [
            "The main sound is: Silence\n",
            "The embeddings shape: (65, 1024)\n",
            "/content/train/Test_submission/pop-rock-beat-fs-27798.wav\n"
          ]
        },
        {
          "output_type": "stream",
          "name": "stderr",
          "text": [
            "WARNING:tensorflow:Using a while_loop for converting IO>AudioResample cause there is no registered converter for this op.\n"
          ]
        },
        {
          "output_type": "stream",
          "name": "stdout",
          "text": [
            "The main sound is: Music\n",
            "The embeddings shape: (31, 1024)\n",
            "/content/train/Test_submission/guitar-chords-70663.wav\n"
          ]
        },
        {
          "output_type": "stream",
          "name": "stderr",
          "text": [
            "WARNING:tensorflow:5 out of the last 5 calls to <function load_wav_16k_mono at 0x788fd3a628c0> triggered tf.function retracing. Tracing is expensive and the excessive number of tracings could be due to (1) creating @tf.function repeatedly in a loop, (2) passing tensors with different shapes, (3) passing Python objects instead of tensors. For (1), please define your @tf.function outside of the loop. For (2), @tf.function has reduce_retracing=True option that can avoid unnecessary retracing. For (3), please refer to https://www.tensorflow.org/guide/function#controlling_retracing and https://www.tensorflow.org/api_docs/python/tf/function for  more details.\n",
            "WARNING:tensorflow:Using a while_loop for converting IO>AudioResample cause there is no registered converter for this op.\n"
          ]
        },
        {
          "output_type": "stream",
          "name": "stdout",
          "text": [
            "The main sound is: Music\n",
            "The embeddings shape: (35, 1024)\n",
            "/content/train/Test_submission/Sad-Violin-Slow-K-www.fesliyanstudios.com.wav\n"
          ]
        },
        {
          "output_type": "stream",
          "name": "stderr",
          "text": [
            "WARNING:tensorflow:6 out of the last 6 calls to <function load_wav_16k_mono at 0x788fd3a628c0> triggered tf.function retracing. Tracing is expensive and the excessive number of tracings could be due to (1) creating @tf.function repeatedly in a loop, (2) passing tensors with different shapes, (3) passing Python objects instead of tensors. For (1), please define your @tf.function outside of the loop. For (2), @tf.function has reduce_retracing=True option that can avoid unnecessary retracing. For (3), please refer to https://www.tensorflow.org/guide/function#controlling_retracing and https://www.tensorflow.org/api_docs/python/tf/function for  more details.\n",
            "WARNING:tensorflow:Using a while_loop for converting IO>AudioResample cause there is no registered converter for this op.\n"
          ]
        },
        {
          "output_type": "stream",
          "name": "stdout",
          "text": [
            "The main sound is: Music\n",
            "The embeddings shape: (18, 1024)\n",
            "/content/train/Test_submission/intro-music-black-box-simple-guitar-12701.wav\n"
          ]
        },
        {
          "output_type": "stream",
          "name": "stderr",
          "text": [
            "WARNING:tensorflow:Using a while_loop for converting IO>AudioResample cause there is no registered converter for this op.\n"
          ]
        },
        {
          "output_type": "stream",
          "name": "stdout",
          "text": [
            "The main sound is: Music\n",
            "The embeddings shape: (89, 1024)\n",
            "/content/train/Test_submission/rock_1_100BPM.wav\n"
          ]
        },
        {
          "output_type": "stream",
          "name": "stderr",
          "text": [
            "WARNING:tensorflow:Using a while_loop for converting IO>AudioResample cause there is no registered converter for this op.\n"
          ]
        },
        {
          "output_type": "stream",
          "name": "stdout",
          "text": [
            "The main sound is: Music\n",
            "The embeddings shape: (59, 1024)\n",
            "/content/train/Test_submission/Va-ord-E4-mf-3c.wav\n"
          ]
        },
        {
          "output_type": "stream",
          "name": "stderr",
          "text": [
            "WARNING:tensorflow:Using a while_loop for converting IO>AudioResample cause there is no registered converter for this op.\n"
          ]
        },
        {
          "output_type": "stream",
          "name": "stdout",
          "text": [
            "The main sound is: Music\n",
            "The embeddings shape: (15, 1024)\n",
            "/content/train/Test_submission/psy-bass-beat-sample-101275.wav\n"
          ]
        },
        {
          "output_type": "stream",
          "name": "stderr",
          "text": [
            "WARNING:tensorflow:Using a while_loop for converting IO>AudioResample cause there is no registered converter for this op.\n"
          ]
        },
        {
          "output_type": "stream",
          "name": "stdout",
          "text": [
            "The main sound is: Music\n",
            "The embeddings shape: (16, 1024)\n",
            "/content/train/Test_submission/guitar-soundtrack-55233.wav\n"
          ]
        },
        {
          "output_type": "stream",
          "name": "stderr",
          "text": [
            "WARNING:tensorflow:Using a while_loop for converting IO>AudioResample cause there is no registered converter for this op.\n"
          ]
        },
        {
          "output_type": "stream",
          "name": "stdout",
          "text": [
            "The main sound is: Music\n",
            "The embeddings shape: (166, 1024)\n",
            "/content/train/Test_submission/ROOM-room8-MUS-chords.wav\n"
          ]
        },
        {
          "output_type": "stream",
          "name": "stderr",
          "text": [
            "WARNING:tensorflow:Using a while_loop for converting IO>AudioResample cause there is no registered converter for this op.\n"
          ]
        },
        {
          "output_type": "stream",
          "name": "stdout",
          "text": [
            "The main sound is: Music\n",
            "The embeddings shape: (35, 1024)\n",
            "/content/train/Test_submission/ROOM_room6_MUS_pachelbel_DEV_iphone.wav\n"
          ]
        },
        {
          "output_type": "stream",
          "name": "stderr",
          "text": [
            "WARNING:tensorflow:Using a while_loop for converting IO>AudioResample cause there is no registered converter for this op.\n"
          ]
        },
        {
          "output_type": "stream",
          "name": "stdout",
          "text": [
            "The main sound is: Music\n",
            "The embeddings shape: (81, 1024)\n",
            "/content/train/Test_submission/pulsing-rhythm-31775.wav\n"
          ]
        },
        {
          "output_type": "stream",
          "name": "stderr",
          "text": [
            "WARNING:tensorflow:Using a while_loop for converting IO>AudioResample cause there is no registered converter for this op.\n"
          ]
        },
        {
          "output_type": "stream",
          "name": "stdout",
          "text": [
            "The main sound is: Music\n",
            "The embeddings shape: (46, 1024)\n",
            "/content/train/Test_submission/ROOM-room8-MUS-beethoven2.wav\n"
          ]
        },
        {
          "output_type": "stream",
          "name": "stderr",
          "text": [
            "WARNING:tensorflow:Using a while_loop for converting IO>AudioResample cause there is no registered converter for this op.\n"
          ]
        },
        {
          "output_type": "stream",
          "name": "stdout",
          "text": [
            "The main sound is: Music\n",
            "The embeddings shape: (114, 1024)\n",
            "/content/train/Test_submission/ROOM_room6_MUS_mozart_DEV_lg.wav\n"
          ]
        },
        {
          "output_type": "stream",
          "name": "stderr",
          "text": [
            "WARNING:tensorflow:Using a while_loop for converting IO>AudioResample cause there is no registered converter for this op.\n"
          ]
        },
        {
          "output_type": "stream",
          "name": "stdout",
          "text": [
            "The main sound is: Music\n",
            "The embeddings shape: (73, 1024)\n",
            "/content/train/Test_submission/Sad-Violin-G-www.fesliyanstudios.com.wav\n"
          ]
        },
        {
          "output_type": "stream",
          "name": "stderr",
          "text": [
            "WARNING:tensorflow:Using a while_loop for converting IO>AudioResample cause there is no registered converter for this op.\n"
          ]
        },
        {
          "output_type": "stream",
          "name": "stdout",
          "text": [
            "The main sound is: Music\n",
            "The embeddings shape: (18, 1024)\n",
            "/content/train/Test_submission/Va-ord-F5-ff-1c.wav\n",
            "The main sound is: Music\n",
            "The embeddings shape: (16, 1024)\n",
            "/content/train/Test_submission/ROOM_room6_MUS_mozart_DEV_redmi.wav\n"
          ]
        },
        {
          "output_type": "stream",
          "name": "stderr",
          "text": [
            "WARNING:tensorflow:Using a while_loop for converting IO>AudioResample cause there is no registered converter for this op.\n"
          ]
        },
        {
          "output_type": "stream",
          "name": "stdout",
          "text": [
            "The main sound is: Music\n",
            "The embeddings shape: (73, 1024)\n",
            "/content/train/Test_submission/guitar-song-57789.wav\n"
          ]
        },
        {
          "output_type": "stream",
          "name": "stderr",
          "text": [
            "WARNING:tensorflow:Using a while_loop for converting IO>AudioResample cause there is no registered converter for this op.\n",
            "WARNING:tensorflow:Using a while_loop for converting IO>AudioResample cause there is no registered converter for this op.\n"
          ]
        },
        {
          "output_type": "stream",
          "name": "stdout",
          "text": [
            "The main sound is: Music\n",
            "The embeddings shape: (229, 1024)\n",
            "/content/train/Test_submission/Sad-Violin-Moderate-Speed-I-www.fesliyanstudios.com.wav\n"
          ]
        },
        {
          "output_type": "stream",
          "name": "stderr",
          "text": [
            "WARNING:tensorflow:Using a while_loop for converting IO>AudioResample cause there is no registered converter for this op.\n"
          ]
        },
        {
          "output_type": "stream",
          "name": "stdout",
          "text": [
            "The main sound is: Music\n",
            "The embeddings shape: (18, 1024)\n",
            "/content/train/Test_submission/guitar-intro-110935.wav\n"
          ]
        },
        {
          "output_type": "stream",
          "name": "stderr",
          "text": [
            "WARNING:tensorflow:Using a while_loop for converting IO>AudioResample cause there is no registered converter for this op.\n"
          ]
        },
        {
          "output_type": "stream",
          "name": "stdout",
          "text": [
            "The main sound is: Music\n",
            "The embeddings shape: (46, 1024)\n",
            "/content/train/Test_submission/ROOM_room6_MUS_pachelbel_DEV_amazon.wav\n"
          ]
        },
        {
          "output_type": "stream",
          "name": "stderr",
          "text": [
            "WARNING:tensorflow:Using a while_loop for converting IO>AudioResample cause there is no registered converter for this op.\n"
          ]
        },
        {
          "output_type": "stream",
          "name": "stdout",
          "text": [
            "The main sound is: Music\n",
            "The embeddings shape: (81, 1024)\n",
            "/content/train/Test_submission/percussion-spirit-drums-by-prettysleepy-art-13788.wav\n"
          ]
        },
        {
          "output_type": "stream",
          "name": "stderr",
          "text": [
            "WARNING:tensorflow:Using a while_loop for converting IO>AudioResample cause there is no registered converter for this op.\n"
          ]
        },
        {
          "output_type": "stream",
          "name": "stdout",
          "text": [
            "The main sound is: Music\n",
            "The embeddings shape: (107, 1024)\n",
            "/content/train/Test_submission/Va-ord-E4-pp-3c.wav\n"
          ]
        },
        {
          "output_type": "stream",
          "name": "stderr",
          "text": [
            "WARNING:tensorflow:Using a while_loop for converting IO>AudioResample cause there is no registered converter for this op.\n"
          ]
        },
        {
          "output_type": "stream",
          "name": "stdout",
          "text": [
            "The main sound is: Music\n",
            "The embeddings shape: (15, 1024)\n",
            "/content/train/Test_submission/whatever-you-say-piano-27291.wav\n"
          ]
        },
        {
          "output_type": "stream",
          "name": "stderr",
          "text": [
            "WARNING:tensorflow:Using a while_loop for converting IO>AudioResample cause there is no registered converter for this op.\n"
          ]
        },
        {
          "output_type": "stream",
          "name": "stdout",
          "text": [
            "The main sound is: Music\n",
            "The embeddings shape: (43, 1024)\n",
            "/content/train/Test_submission/Va-ord-F5-mf-3c.wav\n"
          ]
        },
        {
          "output_type": "stream",
          "name": "stderr",
          "text": [
            "WARNING:tensorflow:Using a while_loop for converting IO>AudioResample cause there is no registered converter for this op.\n"
          ]
        },
        {
          "output_type": "stream",
          "name": "stdout",
          "text": [
            "The main sound is: Music\n",
            "The embeddings shape: (15, 1024)\n",
            "/content/train/Test_submission/rock_5_100BPM.wav\n"
          ]
        },
        {
          "output_type": "stream",
          "name": "stderr",
          "text": [
            "WARNING:tensorflow:Using a while_loop for converting IO>AudioResample cause there is no registered converter for this op.\n"
          ]
        },
        {
          "output_type": "stream",
          "name": "stdout",
          "text": [
            "The main sound is: Music\n",
            "The embeddings shape: (59, 1024)\n",
            "/content/train/Test_submission/rock-drum-loop-85371.wav\n"
          ]
        },
        {
          "output_type": "stream",
          "name": "stderr",
          "text": [
            "WARNING:tensorflow:Using a while_loop for converting IO>AudioResample cause there is no registered converter for this op.\n"
          ]
        },
        {
          "output_type": "stream",
          "name": "stdout",
          "text": [
            "The main sound is: Music\n",
            "The embeddings shape: (21, 1024)\n",
            "/content/train/Test_submission/Sad-Violin-Fast-E-www.fesliyanstudios.com.wav\n"
          ]
        },
        {
          "output_type": "stream",
          "name": "stderr",
          "text": [
            "WARNING:tensorflow:Using a while_loop for converting IO>AudioResample cause there is no registered converter for this op.\n"
          ]
        },
        {
          "output_type": "stream",
          "name": "stdout",
          "text": [
            "The main sound is: Music\n",
            "The embeddings shape: (12, 1024)\n",
            "/content/train/Test_submission/phaze-giant-bass-69687.wav\n"
          ]
        },
        {
          "output_type": "stream",
          "name": "stderr",
          "text": [
            "WARNING:tensorflow:Using a while_loop for converting IO>AudioResample cause there is no registered converter for this op.\n"
          ]
        },
        {
          "output_type": "stream",
          "name": "stdout",
          "text": [
            "The main sound is: Music\n",
            "The embeddings shape: (57, 1024)\n",
            "/content/train/Test_submission/guitar-solo-74247.wav\n"
          ]
        },
        {
          "output_type": "stream",
          "name": "stderr",
          "text": [
            "WARNING:tensorflow:Using a while_loop for converting IO>AudioResample cause there is no registered converter for this op.\n"
          ]
        },
        {
          "output_type": "stream",
          "name": "stdout",
          "text": [
            "The main sound is: Music\n",
            "The embeddings shape: (87, 1024)\n",
            "/content/train/Test_submission/muvibeat3_130bpm-14333.wav\n"
          ]
        },
        {
          "output_type": "stream",
          "name": "stderr",
          "text": [
            "WARNING:tensorflow:Using a while_loop for converting IO>AudioResample cause there is no registered converter for this op.\n"
          ]
        },
        {
          "output_type": "stream",
          "name": "stdout",
          "text": [
            "The main sound is: Music\n",
            "The embeddings shape: (68, 1024)\n",
            "/content/train/Test_submission/hip-hop-drum-loop-22-33572.wav\n"
          ]
        },
        {
          "output_type": "stream",
          "name": "stderr",
          "text": [
            "WARNING:tensorflow:Using a while_loop for converting IO>AudioResample cause there is no registered converter for this op.\n"
          ]
        },
        {
          "output_type": "stream",
          "name": "stdout",
          "text": [
            "The main sound is: Music\n",
            "The embeddings shape: (75, 1024)\n",
            "/content/train/Test_submission/rock_8_100BPM.wav\n"
          ]
        },
        {
          "output_type": "stream",
          "name": "stderr",
          "text": [
            "WARNING:tensorflow:Using a while_loop for converting IO>AudioResample cause there is no registered converter for this op.\n"
          ]
        },
        {
          "output_type": "stream",
          "name": "stdout",
          "text": [
            "The main sound is: Music\n",
            "The embeddings shape: (79, 1024)\n",
            "/content/train/Test_submission/muvibeat4_130bpm-14334.wav\n"
          ]
        },
        {
          "output_type": "stream",
          "name": "stderr",
          "text": [
            "WARNING:tensorflow:Using a while_loop for converting IO>AudioResample cause there is no registered converter for this op.\n"
          ]
        },
        {
          "output_type": "stream",
          "name": "stdout",
          "text": [
            "The main sound is: Music\n",
            "The embeddings shape: (51, 1024)\n",
            "/content/train/Test_submission/Va-ord-G5-ff-1c.wav\n"
          ]
        },
        {
          "output_type": "stream",
          "name": "stderr",
          "text": [
            "WARNING:tensorflow:Using a while_loop for converting IO>AudioResample cause there is no registered converter for this op.\n"
          ]
        },
        {
          "output_type": "stream",
          "name": "stdout",
          "text": [
            "The main sound is: Music\n",
            "The embeddings shape: (15, 1024)\n",
            "/content/train/Test_submission/Sad-Violin-D-www.fesliyanstudios.com.wav\n"
          ]
        },
        {
          "output_type": "stream",
          "name": "stderr",
          "text": [
            "WARNING:tensorflow:Using a while_loop for converting IO>AudioResample cause there is no registered converter for this op.\n"
          ]
        },
        {
          "output_type": "stream",
          "name": "stdout",
          "text": [
            "The main sound is: Music\n",
            "The embeddings shape: (12, 1024)\n",
            "/content/train/Test_submission/guitar-solo-5999.wav\n"
          ]
        },
        {
          "output_type": "stream",
          "name": "stderr",
          "text": [
            "WARNING:tensorflow:Using a while_loop for converting IO>AudioResample cause there is no registered converter for this op.\n"
          ]
        },
        {
          "output_type": "stream",
          "name": "stdout",
          "text": [
            "The main sound is: Music\n",
            "The embeddings shape: (33, 1024)\n",
            "/content/train/Test_submission/ROOM_room6_MUS_mozart_DEV_stereomic.wav\n"
          ]
        },
        {
          "output_type": "stream",
          "name": "stderr",
          "text": [
            "WARNING:tensorflow:Using a while_loop for converting IO>AudioResample cause there is no registered converter for this op.\n"
          ]
        },
        {
          "output_type": "stream",
          "name": "stdout",
          "text": [
            "The main sound is: Music\n",
            "The embeddings shape: (73, 1024)\n",
            "/content/train/Test_submission/paft-drunk-freestyle-drum-22227.wav\n"
          ]
        },
        {
          "output_type": "stream",
          "name": "stderr",
          "text": [
            "WARNING:tensorflow:Using a while_loop for converting IO>AudioResample cause there is no registered converter for this op.\n"
          ]
        },
        {
          "output_type": "stream",
          "name": "stdout",
          "text": [
            "The main sound is: Music\n",
            "The embeddings shape: (65, 1024)\n",
            "/content/train/Test_submission/Va-ord-E4-ff-4c.wav\n"
          ]
        },
        {
          "output_type": "stream",
          "name": "stderr",
          "text": [
            "WARNING:tensorflow:Using a while_loop for converting IO>AudioResample cause there is no registered converter for this op.\n"
          ]
        },
        {
          "output_type": "stream",
          "name": "stdout",
          "text": [
            "The main sound is: Music\n",
            "The embeddings shape: (15, 1024)\n",
            "/content/train/Test_submission/tribe-drum-loop-103173.wav\n"
          ]
        },
        {
          "output_type": "stream",
          "name": "stderr",
          "text": [
            "WARNING:tensorflow:Using a while_loop for converting IO>AudioResample cause there is no registered converter for this op.\n"
          ]
        },
        {
          "output_type": "stream",
          "name": "stdout",
          "text": [
            "The main sound is: Music\n",
            "The embeddings shape: (17, 1024)\n",
            "/content/train/Test_submission/si-80238.wav\n"
          ]
        },
        {
          "output_type": "stream",
          "name": "stderr",
          "text": [
            "WARNING:tensorflow:Using a while_loop for converting IO>AudioResample cause there is no registered converter for this op.\n"
          ]
        },
        {
          "output_type": "stream",
          "name": "stdout",
          "text": [
            "The main sound is: Ding\n",
            "The embeddings shape: (6, 1024)\n",
            "/content/train/Test_submission/acoustic-guitar-logo-13084.wav\n"
          ]
        },
        {
          "output_type": "stream",
          "name": "stderr",
          "text": [
            "WARNING:tensorflow:Using a while_loop for converting IO>AudioResample cause there is no registered converter for this op.\n"
          ]
        },
        {
          "output_type": "stream",
          "name": "stdout",
          "text": [
            "The main sound is: Music\n",
            "The embeddings shape: (12, 1024)\n",
            "/content/train/Test_submission/rock_4_110BPM.wav\n",
            "The main sound is: Music\n",
            "The embeddings shape: (54, 1024)\n",
            "/content/train/Test_submission/ROOM-room8-MUS-beethoven1.wav\n"
          ]
        },
        {
          "output_type": "stream",
          "name": "stderr",
          "text": [
            "WARNING:tensorflow:Using a while_loop for converting IO>AudioResample cause there is no registered converter for this op.\n"
          ]
        },
        {
          "output_type": "stream",
          "name": "stdout",
          "text": [
            "The main sound is: Music\n",
            "The embeddings shape: (89, 1024)\n",
            "/content/train/Test_submission/pop-drums-loops-3-11278.wav\n"
          ]
        },
        {
          "output_type": "stream",
          "name": "stderr",
          "text": [
            "WARNING:tensorflow:Using a while_loop for converting IO>AudioResample cause there is no registered converter for this op.\n"
          ]
        },
        {
          "output_type": "stream",
          "name": "stdout",
          "text": [
            "The main sound is: Music\n",
            "The embeddings shape: (22, 1024)\n",
            "/content/train/Test_submission/Va-ord-F4-ff-2c.wav\n"
          ]
        },
        {
          "output_type": "stream",
          "name": "stderr",
          "text": [
            "WARNING:tensorflow:Using a while_loop for converting IO>AudioResample cause there is no registered converter for this op.\n"
          ]
        },
        {
          "output_type": "stream",
          "name": "stdout",
          "text": [
            "The main sound is: Music\n",
            "The embeddings shape: (15, 1024)\n",
            "/content/train/Test_submission/Sad-Violin-H-www.fesliyanstudios.com.wav\n"
          ]
        },
        {
          "output_type": "stream",
          "name": "stderr",
          "text": [
            "WARNING:tensorflow:Using a while_loop for converting IO>AudioResample cause there is no registered converter for this op.\n"
          ]
        },
        {
          "output_type": "stream",
          "name": "stdout",
          "text": [
            "The main sound is: Music\n",
            "The embeddings shape: (17, 1024)\n",
            "/content/train/Test_submission/guitar-solo-27194.wav\n"
          ]
        },
        {
          "output_type": "stream",
          "name": "stderr",
          "text": [
            "WARNING:tensorflow:Using a while_loop for converting IO>AudioResample cause there is no registered converter for this op.\n"
          ]
        },
        {
          "output_type": "stream",
          "name": "stdout",
          "text": [
            "The main sound is: Music\n",
            "The embeddings shape: (98, 1024)\n",
            "/content/train/Test_submission/yuwu-quiz-113046.wav\n"
          ]
        },
        {
          "output_type": "stream",
          "name": "stderr",
          "text": [
            "WARNING:tensorflow:Using a while_loop for converting IO>AudioResample cause there is no registered converter for this op.\n"
          ]
        },
        {
          "output_type": "stream",
          "name": "stdout",
          "text": [
            "The main sound is: Music\n",
            "The embeddings shape: (36, 1024)\n",
            "/content/train/Test_submission/wingrandpiano-96338.wav\n"
          ]
        },
        {
          "output_type": "stream",
          "name": "stderr",
          "text": [
            "WARNING:tensorflow:Using a while_loop for converting IO>AudioResample cause there is no registered converter for this op.\n"
          ]
        },
        {
          "output_type": "stream",
          "name": "stdout",
          "text": [
            "The main sound is: Music\n",
            "The embeddings shape: (7, 1024)\n",
            "/content/train/Test_submission/ska_1_150BPM.wav\n"
          ]
        },
        {
          "output_type": "stream",
          "name": "stderr",
          "text": [
            "WARNING:tensorflow:Using a while_loop for converting IO>AudioResample cause there is no registered converter for this op.\n"
          ]
        },
        {
          "output_type": "stream",
          "name": "stdout",
          "text": [
            "The main sound is: Music\n",
            "The embeddings shape: (39, 1024)\n",
            "/content/train/Test_submission/short-logo-108964.wav\n"
          ]
        },
        {
          "output_type": "stream",
          "name": "stderr",
          "text": [
            "WARNING:tensorflow:Using a while_loop for converting IO>AudioResample cause there is no registered converter for this op.\n"
          ]
        },
        {
          "output_type": "stream",
          "name": "stdout",
          "text": [
            "The main sound is: Music\n",
            "The embeddings shape: (17, 1024)\n",
            "/content/train/Test_submission/100bpm-808-like-drum-loop-74838.wav\n"
          ]
        },
        {
          "output_type": "stream",
          "name": "stderr",
          "text": [
            "WARNING:tensorflow:Using a while_loop for converting IO>AudioResample cause there is no registered converter for this op.\n"
          ]
        },
        {
          "output_type": "stream",
          "name": "stdout",
          "text": [
            "The main sound is: Music\n",
            "The embeddings shape: (40, 1024)\n",
            "/content/train/Test_submission/guitar-swellsolo-34241.wav\n"
          ]
        },
        {
          "output_type": "stream",
          "name": "stderr",
          "text": [
            "WARNING:tensorflow:Using a while_loop for converting IO>AudioResample cause there is no registered converter for this op.\n"
          ]
        },
        {
          "output_type": "stream",
          "name": "stdout",
          "text": [
            "The main sound is: Music\n",
            "The embeddings shape: (99, 1024)\n",
            "/content/train/Test_submission/short-melancholic-theme-on-piano-34024.wav\n"
          ]
        },
        {
          "output_type": "stream",
          "name": "stderr",
          "text": [
            "WARNING:tensorflow:Using a while_loop for converting IO>AudioResample cause there is no registered converter for this op.\n"
          ]
        },
        {
          "output_type": "stream",
          "name": "stdout",
          "text": [
            "The main sound is: Music\n",
            "The embeddings shape: (77, 1024)\n",
            "/content/train/Test_submission/Sad-Violin-Lower-F-www.fesliyanstudios.com.wav\n"
          ]
        },
        {
          "output_type": "stream",
          "name": "stderr",
          "text": [
            "WARNING:tensorflow:Using a while_loop for converting IO>AudioResample cause there is no registered converter for this op.\n"
          ]
        },
        {
          "output_type": "stream",
          "name": "stdout",
          "text": [
            "The main sound is: Music\n",
            "The embeddings shape: (12, 1024)\n",
            "/content/train/Test_submission/world-drum-beat-76217.wav\n"
          ]
        },
        {
          "output_type": "stream",
          "name": "stderr",
          "text": [
            "WARNING:tensorflow:Using a while_loop for converting IO>AudioResample cause there is no registered converter for this op.\n"
          ]
        },
        {
          "output_type": "stream",
          "name": "stdout",
          "text": [
            "The main sound is: Music\n",
            "The embeddings shape: (50, 1024)\n",
            "/content/train/Test_submission/time-break-drum-only-83822.wav\n"
          ]
        },
        {
          "output_type": "stream",
          "name": "stderr",
          "text": [
            "WARNING:tensorflow:Using a while_loop for converting IO>AudioResample cause there is no registered converter for this op.\n"
          ]
        },
        {
          "output_type": "stream",
          "name": "stdout",
          "text": [
            "The main sound is: Music\n",
            "The embeddings shape: (17, 1024)\n",
            "/content/train/Test_submission/Sad-Violin-J-Slow-www.fesliyanstudios.com.wav\n"
          ]
        },
        {
          "output_type": "stream",
          "name": "stderr",
          "text": [
            "WARNING:tensorflow:Using a while_loop for converting IO>AudioResample cause there is no registered converter for this op.\n"
          ]
        },
        {
          "output_type": "stream",
          "name": "stdout",
          "text": [
            "The main sound is: Music\n",
            "The embeddings shape: (21, 1024)\n",
            "/content/train/Test_submission/ska_2_150BPM.wav\n"
          ]
        },
        {
          "output_type": "stream",
          "name": "stderr",
          "text": [
            "WARNING:tensorflow:Using a while_loop for converting IO>AudioResample cause there is no registered converter for this op.\n"
          ]
        },
        {
          "output_type": "stream",
          "name": "stdout",
          "text": [
            "The main sound is: Music\n",
            "The embeddings shape: (39, 1024)\n",
            "/content/train/Test_submission/rock_6_100BPM.wav\n"
          ]
        },
        {
          "output_type": "stream",
          "name": "stderr",
          "text": [
            "WARNING:tensorflow:Using a while_loop for converting IO>AudioResample cause there is no registered converter for this op.\n"
          ]
        },
        {
          "output_type": "stream",
          "name": "stdout",
          "text": [
            "The main sound is: Music\n",
            "The embeddings shape: (139, 1024)\n",
            "/content/train/Test_submission/Va-ord-F3-mf-4c.wav\n"
          ]
        },
        {
          "output_type": "stream",
          "name": "stderr",
          "text": [
            "WARNING:tensorflow:Using a while_loop for converting IO>AudioResample cause there is no registered converter for this op.\n"
          ]
        },
        {
          "output_type": "stream",
          "name": "stdout",
          "text": [
            "The main sound is: Music\n",
            "The embeddings shape: (14, 1024)\n",
            "/content/train/Test_submission/soft-piano-100-bpm-121529.wav\n"
          ]
        },
        {
          "output_type": "stream",
          "name": "stderr",
          "text": [
            "WARNING:tensorflow:Using a while_loop for converting IO>AudioResample cause there is no registered converter for this op.\n"
          ]
        },
        {
          "output_type": "stream",
          "name": "stdout",
          "text": [
            "The main sound is: Music\n",
            "The embeddings shape: (40, 1024)\n",
            "/content/train/Test_submission/Va-ord-F4-mf-3c.wav\n"
          ]
        },
        {
          "output_type": "stream",
          "name": "stderr",
          "text": [
            "WARNING:tensorflow:Using a while_loop for converting IO>AudioResample cause there is no registered converter for this op.\n"
          ]
        },
        {
          "output_type": "stream",
          "name": "stdout",
          "text": [
            "The main sound is: Music\n",
            "The embeddings shape: (15, 1024)\n",
            "/content/train/Test_submission/rock_7_100BPM.wav\n"
          ]
        },
        {
          "output_type": "stream",
          "name": "stderr",
          "text": [
            "WARNING:tensorflow:Using a while_loop for converting IO>AudioResample cause there is no registered converter for this op.\n"
          ]
        },
        {
          "output_type": "stream",
          "name": "stdout",
          "text": [
            "The main sound is: Music\n",
            "The embeddings shape: (139, 1024)\n",
            "/content/train/Test_submission/rock_2_100BPM.wav\n"
          ]
        },
        {
          "output_type": "stream",
          "name": "stderr",
          "text": [
            "WARNING:tensorflow:Using a while_loop for converting IO>AudioResample cause there is no registered converter for this op.\n"
          ]
        },
        {
          "output_type": "stream",
          "name": "stdout",
          "text": [
            "The main sound is: Music\n",
            "The embeddings shape: (59, 1024)\n",
            "/content/train/Test_submission/kitchen-drum200616_0006_01-39711.wav\n"
          ]
        },
        {
          "output_type": "stream",
          "name": "stderr",
          "text": [
            "WARNING:tensorflow:Using a while_loop for converting IO>AudioResample cause there is no registered converter for this op.\n"
          ]
        },
        {
          "output_type": "stream",
          "name": "stdout",
          "text": [
            "The main sound is: Insect\n",
            "The embeddings shape: (14, 1024)\n",
            "/content/train/Test_submission/simple-loopable-beat-88509.wav\n"
          ]
        },
        {
          "output_type": "stream",
          "name": "stderr",
          "text": [
            "WARNING:tensorflow:Using a while_loop for converting IO>AudioResample cause there is no registered converter for this op.\n"
          ]
        },
        {
          "output_type": "stream",
          "name": "stdout",
          "text": [
            "The main sound is: Music\n",
            "The embeddings shape: (16, 1024)\n",
            "/content/train/Test_submission/wondercue-111933.wav\n"
          ]
        },
        {
          "output_type": "stream",
          "name": "stderr",
          "text": [
            "WARNING:tensorflow:Using a while_loop for converting IO>AudioResample cause there is no registered converter for this op.\n"
          ]
        },
        {
          "output_type": "stream",
          "name": "stdout",
          "text": [
            "The main sound is: Music\n",
            "The embeddings shape: (62, 1024)\n",
            "/content/train/Test_submission/Sad-Violin-A-www.fesliyanstudios.com.wav\n"
          ]
        },
        {
          "output_type": "stream",
          "name": "stderr",
          "text": [
            "WARNING:tensorflow:Using a while_loop for converting IO>AudioResample cause there is no registered converter for this op.\n"
          ]
        },
        {
          "output_type": "stream",
          "name": "stdout",
          "text": [
            "The main sound is: Music\n",
            "The embeddings shape: (14, 1024)\n",
            "/content/train/Test_submission/transition-piano-34391.wav\n"
          ]
        },
        {
          "output_type": "stream",
          "name": "stderr",
          "text": [
            "WARNING:tensorflow:Using a while_loop for converting IO>AudioResample cause there is no registered converter for this op.\n"
          ]
        },
        {
          "output_type": "stream",
          "name": "stdout",
          "text": [
            "The main sound is: Music\n",
            "The embeddings shape: (36, 1024)\n",
            "/content/train/Test_submission/hip-hop-drum-loop-25-33571.wav\n"
          ]
        },
        {
          "output_type": "stream",
          "name": "stderr",
          "text": [
            "WARNING:tensorflow:Using a while_loop for converting IO>AudioResample cause there is no registered converter for this op.\n"
          ]
        },
        {
          "output_type": "stream",
          "name": "stdout",
          "text": [
            "The main sound is: Music\n",
            "The embeddings shape: (51, 1024)\n",
            "/content/train/Test_submission/warm-piano-logo-116098.wav\n"
          ]
        },
        {
          "output_type": "stream",
          "name": "stderr",
          "text": [
            "WARNING:tensorflow:Using a while_loop for converting IO>AudioResample cause there is no registered converter for this op.\n"
          ]
        },
        {
          "output_type": "stream",
          "name": "stdout",
          "text": [
            "The main sound is: Music\n",
            "The embeddings shape: (29, 1024)\n",
            "/content/train/Test_submission/ROOM_room6_MUS_pachelbel_DEV_lg.wav\n"
          ]
        },
        {
          "output_type": "stream",
          "name": "stderr",
          "text": [
            "WARNING:tensorflow:Using a while_loop for converting IO>AudioResample cause there is no registered converter for this op.\n"
          ]
        },
        {
          "output_type": "stream",
          "name": "stdout",
          "text": [
            "The main sound is: Music\n",
            "The embeddings shape: (81, 1024)\n",
            "/content/train/Test_submission/rock_3_100BPM.wav\n"
          ]
        },
        {
          "output_type": "stream",
          "name": "stderr",
          "text": [
            "WARNING:tensorflow:Using a while_loop for converting IO>AudioResample cause there is no registered converter for this op.\n"
          ]
        },
        {
          "output_type": "stream",
          "name": "stdout",
          "text": [
            "The main sound is: Music\n",
            "The embeddings shape: (59, 1024)\n",
            "/content/train/Test_submission/ROOM_room7_MUS_beethoven1_DEV_amazon.wav\n"
          ]
        },
        {
          "output_type": "stream",
          "name": "stderr",
          "text": [
            "WARNING:tensorflow:Using a while_loop for converting IO>AudioResample cause there is no registered converter for this op.\n"
          ]
        },
        {
          "output_type": "stream",
          "name": "stdout",
          "text": [
            "The main sound is: Music\n",
            "The embeddings shape: (86, 1024)\n",
            "/content/train/Test_submission/muvibeat5_130bpm-14335.wav\n"
          ]
        },
        {
          "output_type": "stream",
          "name": "stderr",
          "text": [
            "WARNING:tensorflow:Using a while_loop for converting IO>AudioResample cause there is no registered converter for this op.\n"
          ]
        },
        {
          "output_type": "stream",
          "name": "stdout",
          "text": [
            "The main sound is: Music\n",
            "The embeddings shape: (71, 1024)\n",
            "/content/train/Test_submission/Sad-Violin-C-www.fesliyanstudios.com.wav\n",
            "The main sound is: Music\n",
            "The embeddings shape: (16, 1024)\n"
          ]
        }
      ]
    },
    {
      "cell_type": "markdown",
      "source": [
        "Criar treinamento para instrumentos"
      ],
      "metadata": {
        "id": "Xk5_jZvU-FTV"
      }
    },
    {
      "cell_type": "code",
      "source": [],
      "metadata": {
        "id": "RjTKoKoK-FDM"
      },
      "execution_count": null,
      "outputs": []
    }
  ]
}